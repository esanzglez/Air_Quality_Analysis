{
 "cells": [
  {
   "cell_type": "code",
   "execution_count": 3,
   "metadata": {
    "collapsed": false
   },
   "outputs": [],
   "source": [
    "#importing all the modules\n",
    "import pandas as pd\n",
    "import numpy as np\n",
    "import matplotlib.pyplot as plt\n",
    "%matplotlib inline"
   ]
  },
  {
   "cell_type": "code",
   "execution_count": 11,
   "metadata": {
    "collapsed": false
   },
   "outputs": [],
   "source": [
    "red_hook = pd.read_csv('LuxDustNoise_summarized_4hour_0719.csv')"
   ]
  },
  {
   "cell_type": "markdown",
   "metadata": {},
   "source": [
    "Location:"
   ]
  },
  {
   "cell_type": "markdown",
   "metadata": {},
   "source": [
    "sensor_0 : RHI roof (at corner of Hicks and W 9th streets, elevation approx. 8m) - 767 Hicks St, Brooklyn, NY 11231\n",
    "\n",
    "sensor_3 : RHI entrance (on Hicks street at street level) - 767 Hicks St, Brooklyn, NY 11231\n",
    "\n",
    "sensor_2 : TechLab (at ground level) - 106 Ferris St\n",
    "\n",
    "sensor_4 : PioneerWorks roof (elevation approx. 15m) - 159 Pioneer St, Brooklyn, NY 11231"
   ]
  },
  {
   "cell_type": "markdown",
   "metadata": {},
   "source": [
    "Units: for luminosity (in Lux), particulate concentration (particle count per 0.01 cubic feet), and noise (sound pressure level in dB)"
   ]
  },
  {
   "cell_type": "code",
   "execution_count": 12,
   "metadata": {
    "collapsed": false
   },
   "outputs": [
    {
     "data": {
      "text/html": [
       "<div>\n",
       "<table border=\"1\" class=\"dataframe\">\n",
       "  <thead>\n",
       "    <tr style=\"text-align: right;\">\n",
       "      <th></th>\n",
       "      <th>dt</th>\n",
       "      <th>sensor</th>\n",
       "      <th>lux</th>\n",
       "      <th>con</th>\n",
       "      <th>spl</th>\n",
       "    </tr>\n",
       "  </thead>\n",
       "  <tbody>\n",
       "    <tr>\n",
       "      <th>0</th>\n",
       "      <td>2016-06-21 00:00:00</td>\n",
       "      <td>sensor_0</td>\n",
       "      <td>0.0</td>\n",
       "      <td>2834.03125</td>\n",
       "      <td>66.308479</td>\n",
       "    </tr>\n",
       "    <tr>\n",
       "      <th>1</th>\n",
       "      <td>2016-06-21 00:00:00</td>\n",
       "      <td>sensor_2</td>\n",
       "      <td>0.0</td>\n",
       "      <td>1691.99625</td>\n",
       "      <td>70.375943</td>\n",
       "    </tr>\n",
       "    <tr>\n",
       "      <th>2</th>\n",
       "      <td>2016-06-21 00:00:00</td>\n",
       "      <td>sensor_3</td>\n",
       "      <td>0.0</td>\n",
       "      <td>1686.44125</td>\n",
       "      <td>76.235738</td>\n",
       "    </tr>\n",
       "    <tr>\n",
       "      <th>3</th>\n",
       "      <td>2016-06-21 00:00:00</td>\n",
       "      <td>sensor_4</td>\n",
       "      <td>0.0</td>\n",
       "      <td>2324.65875</td>\n",
       "      <td>70.652334</td>\n",
       "    </tr>\n",
       "    <tr>\n",
       "      <th>4</th>\n",
       "      <td>2016-06-21 04:00:00</td>\n",
       "      <td>sensor_0</td>\n",
       "      <td>3213.5</td>\n",
       "      <td>2748.28875</td>\n",
       "      <td>81.467436</td>\n",
       "    </tr>\n",
       "  </tbody>\n",
       "</table>\n",
       "</div>"
      ],
      "text/plain": [
       "                    dt    sensor     lux         con        spl\n",
       "0  2016-06-21 00:00:00  sensor_0     0.0  2834.03125  66.308479\n",
       "1  2016-06-21 00:00:00  sensor_2     0.0  1691.99625  70.375943\n",
       "2  2016-06-21 00:00:00  sensor_3     0.0  1686.44125  76.235738\n",
       "3  2016-06-21 00:00:00  sensor_4     0.0  2324.65875  70.652334\n",
       "4  2016-06-21 04:00:00  sensor_0  3213.5  2748.28875  81.467436"
      ]
     },
     "execution_count": 12,
     "metadata": {},
     "output_type": "execute_result"
    }
   ],
   "source": [
    "red_hook.head()"
   ]
  },
  {
   "cell_type": "code",
   "execution_count": 13,
   "metadata": {
    "collapsed": false
   },
   "outputs": [],
   "source": [
    "red_hook.drop('lux', axis=1, inplace = True)"
   ]
  },
  {
   "cell_type": "code",
   "execution_count": 14,
   "metadata": {
    "collapsed": false
   },
   "outputs": [],
   "source": [
    "red_hook.dt = pd.to_datetime(red_hook.dt)"
   ]
  },
  {
   "cell_type": "code",
   "execution_count": 16,
   "metadata": {
    "collapsed": false
   },
   "outputs": [
    {
     "data": {
      "text/html": [
       "<div>\n",
       "<table border=\"1\" class=\"dataframe\">\n",
       "  <thead>\n",
       "    <tr style=\"text-align: right;\">\n",
       "      <th></th>\n",
       "      <th>dt</th>\n",
       "      <th>sensor</th>\n",
       "      <th>con</th>\n",
       "      <th>spl</th>\n",
       "      <th>date</th>\n",
       "      <th>time</th>\n",
       "    </tr>\n",
       "  </thead>\n",
       "  <tbody>\n",
       "    <tr>\n",
       "      <th>0</th>\n",
       "      <td>2016-06-21 00:00:00</td>\n",
       "      <td>sensor_0</td>\n",
       "      <td>2834.03125</td>\n",
       "      <td>66.308479</td>\n",
       "      <td>2016-06-21</td>\n",
       "      <td>00:00:00</td>\n",
       "    </tr>\n",
       "    <tr>\n",
       "      <th>1</th>\n",
       "      <td>2016-06-21 00:00:00</td>\n",
       "      <td>sensor_2</td>\n",
       "      <td>1691.99625</td>\n",
       "      <td>70.375943</td>\n",
       "      <td>2016-06-21</td>\n",
       "      <td>00:00:00</td>\n",
       "    </tr>\n",
       "    <tr>\n",
       "      <th>2</th>\n",
       "      <td>2016-06-21 00:00:00</td>\n",
       "      <td>sensor_3</td>\n",
       "      <td>1686.44125</td>\n",
       "      <td>76.235738</td>\n",
       "      <td>2016-06-21</td>\n",
       "      <td>00:00:00</td>\n",
       "    </tr>\n",
       "    <tr>\n",
       "      <th>3</th>\n",
       "      <td>2016-06-21 00:00:00</td>\n",
       "      <td>sensor_4</td>\n",
       "      <td>2324.65875</td>\n",
       "      <td>70.652334</td>\n",
       "      <td>2016-06-21</td>\n",
       "      <td>00:00:00</td>\n",
       "    </tr>\n",
       "    <tr>\n",
       "      <th>4</th>\n",
       "      <td>2016-06-21 04:00:00</td>\n",
       "      <td>sensor_0</td>\n",
       "      <td>2748.28875</td>\n",
       "      <td>81.467436</td>\n",
       "      <td>2016-06-21</td>\n",
       "      <td>04:00:00</td>\n",
       "    </tr>\n",
       "    <tr>\n",
       "      <th>5</th>\n",
       "      <td>2016-06-21 04:00:00</td>\n",
       "      <td>sensor_2</td>\n",
       "      <td>2550.94500</td>\n",
       "      <td>72.334450</td>\n",
       "      <td>2016-06-21</td>\n",
       "      <td>04:00:00</td>\n",
       "    </tr>\n",
       "    <tr>\n",
       "      <th>6</th>\n",
       "      <td>2016-06-21 04:00:00</td>\n",
       "      <td>sensor_3</td>\n",
       "      <td>2041.33000</td>\n",
       "      <td>79.445869</td>\n",
       "      <td>2016-06-21</td>\n",
       "      <td>04:00:00</td>\n",
       "    </tr>\n",
       "    <tr>\n",
       "      <th>7</th>\n",
       "      <td>2016-06-21 04:00:00</td>\n",
       "      <td>sensor_4</td>\n",
       "      <td>3041.73875</td>\n",
       "      <td>81.499422</td>\n",
       "      <td>2016-06-21</td>\n",
       "      <td>04:00:00</td>\n",
       "    </tr>\n",
       "    <tr>\n",
       "      <th>8</th>\n",
       "      <td>2016-06-21 08:00:00</td>\n",
       "      <td>sensor_0</td>\n",
       "      <td>2720.35125</td>\n",
       "      <td>80.020600</td>\n",
       "      <td>2016-06-21</td>\n",
       "      <td>08:00:00</td>\n",
       "    </tr>\n",
       "    <tr>\n",
       "      <th>9</th>\n",
       "      <td>2016-06-21 08:00:00</td>\n",
       "      <td>sensor_2</td>\n",
       "      <td>3088.82750</td>\n",
       "      <td>76.372047</td>\n",
       "      <td>2016-06-21</td>\n",
       "      <td>08:00:00</td>\n",
       "    </tr>\n",
       "  </tbody>\n",
       "</table>\n",
       "</div>"
      ],
      "text/plain": [
       "                   dt    sensor         con        spl        date      time\n",
       "0 2016-06-21 00:00:00  sensor_0  2834.03125  66.308479  2016-06-21  00:00:00\n",
       "1 2016-06-21 00:00:00  sensor_2  1691.99625  70.375943  2016-06-21  00:00:00\n",
       "2 2016-06-21 00:00:00  sensor_3  1686.44125  76.235738  2016-06-21  00:00:00\n",
       "3 2016-06-21 00:00:00  sensor_4  2324.65875  70.652334  2016-06-21  00:00:00\n",
       "4 2016-06-21 04:00:00  sensor_0  2748.28875  81.467436  2016-06-21  04:00:00\n",
       "5 2016-06-21 04:00:00  sensor_2  2550.94500  72.334450  2016-06-21  04:00:00\n",
       "6 2016-06-21 04:00:00  sensor_3  2041.33000  79.445869  2016-06-21  04:00:00\n",
       "7 2016-06-21 04:00:00  sensor_4  3041.73875  81.499422  2016-06-21  04:00:00\n",
       "8 2016-06-21 08:00:00  sensor_0  2720.35125  80.020600  2016-06-21  08:00:00\n",
       "9 2016-06-21 08:00:00  sensor_2  3088.82750  76.372047  2016-06-21  08:00:00"
      ]
     },
     "execution_count": 16,
     "metadata": {},
     "output_type": "execute_result"
    }
   ],
   "source": [
    "red_hook['date'] = pd.to_datetime(red_hook.dt).apply( lambda x: x.date() )\n",
    "red_hook['time'] = pd.to_datetime(red_hook.dt).apply( lambda x: x.time() )\n",
    "\n",
    "red_hook.head(10)"
   ]
  },
  {
   "cell_type": "code",
   "execution_count": 17,
   "metadata": {
    "collapsed": false
   },
   "outputs": [],
   "source": [
    "#separating the sensors\n",
    "sensor0 = red_hook[red_hook.sensor=='sensor_0']\n",
    "sensor2 = red_hook[red_hook.sensor=='sensor_2']\n",
    "sensor3 = red_hook[red_hook.sensor=='sensor_3']\n",
    "sensor4 = red_hook[red_hook.sensor=='sensor_4']"
   ]
  },
  {
   "cell_type": "code",
   "execution_count": 18,
   "metadata": {
    "collapsed": true
   },
   "outputs": [],
   "source": [
    "# to save the data to use in different notebooks"
   ]
  },
  {
   "cell_type": "code",
   "execution_count": 19,
   "metadata": {
    "collapsed": true
   },
   "outputs": [],
   "source": [
    "sensor0.to_csv('sensor0.csv')\n",
    "sensor2.to_csv('sensor2.csv')\n",
    "sensor3.to_csv('sensor3.csv')\n",
    "sensor4.to_csv('sensor4.csv')"
   ]
  }
 ],
 "metadata": {
  "anaconda-cloud": {},
  "kernelspec": {
   "display_name": "Python [conda root]",
   "language": "python",
   "name": "conda-root-py"
  },
  "language_info": {
   "codemirror_mode": {
    "name": "ipython",
    "version": 2
   },
   "file_extension": ".py",
   "mimetype": "text/x-python",
   "name": "python",
   "nbconvert_exporter": "python",
   "pygments_lexer": "ipython2",
   "version": "2.7.12"
  }
 },
 "nbformat": 4,
 "nbformat_minor": 1
}
