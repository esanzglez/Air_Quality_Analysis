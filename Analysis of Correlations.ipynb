{
 "cells": [
  {
   "cell_type": "code",
   "execution_count": 1,
   "metadata": {
    "collapsed": true
   },
   "outputs": [],
   "source": [
    "#importing all the module\n",
    "import pandas as pd\n",
    "import numpy as np\n",
    "import matplotlib.pyplot as plt\n",
    "import statsmodels.formula.api as smf\n",
    "from scipy import stats\n",
    "import seaborn\n",
    "%matplotlib inline"
   ]
  },
  {
   "cell_type": "code",
   "execution_count": 2,
   "metadata": {
    "collapsed": false
   },
   "outputs": [],
   "source": [
    "sensor0 = pd.read_csv('sensor0.csv')\n",
    "sensor2 = pd.read_csv('sensor2.csv')\n",
    "sensor3 = pd.read_csv('sensor3.csv')\n",
    "sensor4 = pd.read_csv('sensor4.csv')"
   ]
  },
  {
   "cell_type": "code",
   "execution_count": 3,
   "metadata": {
    "collapsed": false
   },
   "outputs": [],
   "source": [
    "sensor_comb1 = pd.merge(sensor0,sensor2, on='dt', how='inner')\n",
    "sensor_comb2 = pd.merge(sensor3,sensor4, on='dt', how='inner')"
   ]
  },
  {
   "cell_type": "code",
   "execution_count": 4,
   "metadata": {
    "collapsed": false
   },
   "outputs": [],
   "source": [
    "sensor_comb1 = sensor_comb1[[u'dt', u'sensor_x', u'con_x', u'spl_x', u'sensor_y', u'con_y', u'spl_y', u'date_y',\n",
    "       u'time_y']]"
   ]
  },
  {
   "cell_type": "code",
   "execution_count": 5,
   "metadata": {
    "collapsed": true
   },
   "outputs": [],
   "source": [
    "sensor_comb2 = sensor_comb2[[u'dt', u'sensor_x', u'con_x', u'spl_x', u'sensor_y', u'con_y', u'spl_y', u'date_y',\n",
    "       u'time_y']]"
   ]
  },
  {
   "cell_type": "code",
   "execution_count": 6,
   "metadata": {
    "collapsed": true
   },
   "outputs": [],
   "source": [
    "sensor = pd.merge(sensor_comb1,sensor_comb2, on='dt', how='inner')"
   ]
  },
  {
   "cell_type": "code",
   "execution_count": 7,
   "metadata": {
    "collapsed": false
   },
   "outputs": [],
   "source": [
    "sensor =sensor.drop([ u'sensor_x_x',u'sensor_y_x',u'date_y_x', u'time_y_x', u'sensor_x_y',u'sensor_y_y'],axis=1)"
   ]
  },
  {
   "cell_type": "code",
   "execution_count": 8,
   "metadata": {
    "collapsed": false
   },
   "outputs": [
    {
     "data": {
      "text/html": [
       "<div>\n",
       "<table border=\"1\" class=\"dataframe\">\n",
       "  <thead>\n",
       "    <tr style=\"text-align: right;\">\n",
       "      <th></th>\n",
       "      <th>dt</th>\n",
       "      <th>con_x_x</th>\n",
       "      <th>spl_x_x</th>\n",
       "      <th>con_y_x</th>\n",
       "      <th>spl_y_x</th>\n",
       "      <th>con_x_y</th>\n",
       "      <th>spl_x_y</th>\n",
       "      <th>con_y_y</th>\n",
       "      <th>spl_y_y</th>\n",
       "      <th>date_y_y</th>\n",
       "      <th>time_y_y</th>\n",
       "    </tr>\n",
       "  </thead>\n",
       "  <tbody>\n",
       "    <tr>\n",
       "      <th>0</th>\n",
       "      <td>2016-06-21 00:00:00</td>\n",
       "      <td>2834.03125</td>\n",
       "      <td>66.308479</td>\n",
       "      <td>1691.99625</td>\n",
       "      <td>70.375943</td>\n",
       "      <td>1686.44125</td>\n",
       "      <td>76.235738</td>\n",
       "      <td>2324.65875</td>\n",
       "      <td>70.652334</td>\n",
       "      <td>2016-06-21</td>\n",
       "      <td>00:00:00</td>\n",
       "    </tr>\n",
       "    <tr>\n",
       "      <th>1</th>\n",
       "      <td>2016-06-21 04:00:00</td>\n",
       "      <td>2748.28875</td>\n",
       "      <td>81.467436</td>\n",
       "      <td>2550.94500</td>\n",
       "      <td>72.334450</td>\n",
       "      <td>2041.33000</td>\n",
       "      <td>79.445869</td>\n",
       "      <td>3041.73875</td>\n",
       "      <td>81.499422</td>\n",
       "      <td>2016-06-21</td>\n",
       "      <td>04:00:00</td>\n",
       "    </tr>\n",
       "    <tr>\n",
       "      <th>2</th>\n",
       "      <td>2016-06-21 08:00:00</td>\n",
       "      <td>2720.35125</td>\n",
       "      <td>80.020600</td>\n",
       "      <td>3088.82750</td>\n",
       "      <td>76.372047</td>\n",
       "      <td>2369.71750</td>\n",
       "      <td>80.738609</td>\n",
       "      <td>2757.67250</td>\n",
       "      <td>77.785565</td>\n",
       "      <td>2016-06-21</td>\n",
       "      <td>08:00:00</td>\n",
       "    </tr>\n",
       "  </tbody>\n",
       "</table>\n",
       "</div>"
      ],
      "text/plain": [
       "                    dt     con_x_x    spl_x_x     con_y_x    spl_y_x  \\\n",
       "0  2016-06-21 00:00:00  2834.03125  66.308479  1691.99625  70.375943   \n",
       "1  2016-06-21 04:00:00  2748.28875  81.467436  2550.94500  72.334450   \n",
       "2  2016-06-21 08:00:00  2720.35125  80.020600  3088.82750  76.372047   \n",
       "\n",
       "      con_x_y    spl_x_y     con_y_y    spl_y_y    date_y_y  time_y_y  \n",
       "0  1686.44125  76.235738  2324.65875  70.652334  2016-06-21  00:00:00  \n",
       "1  2041.33000  79.445869  3041.73875  81.499422  2016-06-21  04:00:00  \n",
       "2  2369.71750  80.738609  2757.67250  77.785565  2016-06-21  08:00:00  "
      ]
     },
     "execution_count": 8,
     "metadata": {},
     "output_type": "execute_result"
    }
   ],
   "source": [
    "sensor.head(3)"
   ]
  },
  {
   "cell_type": "code",
   "execution_count": 9,
   "metadata": {
    "collapsed": false
   },
   "outputs": [],
   "source": [
    "sensor['con']= (sensor.con_x_x+sensor.con_y_x+sensor.con_x_y+sensor.con_y_y)/4\n",
    "sensor['spl']= (sensor.spl_x_x+sensor.spl_y_x+sensor.spl_x_y+sensor.spl_y_y)/4\n",
    "sensor = sensor.rename(columns={'date_y_y':'date','time_y_y':'time'})"
   ]
  },
  {
   "cell_type": "code",
   "execution_count": 10,
   "metadata": {
    "collapsed": false
   },
   "outputs": [],
   "source": [
    "sensor = sensor[['dt','con','spl','date','time']]"
   ]
  },
  {
   "cell_type": "code",
   "execution_count": 11,
   "metadata": {
    "collapsed": false
   },
   "outputs": [],
   "source": [
    "weather = pd.read_csv('weather.csv')"
   ]
  },
  {
   "cell_type": "code",
   "execution_count": 12,
   "metadata": {
    "collapsed": false
   },
   "outputs": [
    {
     "data": {
      "text/html": [
       "<div>\n",
       "<table border=\"1\" class=\"dataframe\">\n",
       "  <thead>\n",
       "    <tr style=\"text-align: right;\">\n",
       "      <th></th>\n",
       "      <th>Time</th>\n",
       "      <th>Temp.</th>\n",
       "      <th>Humidity</th>\n",
       "      <th>Pressure</th>\n",
       "      <th>Day</th>\n",
       "    </tr>\n",
       "  </thead>\n",
       "  <tbody>\n",
       "    <tr>\n",
       "      <th>0</th>\n",
       "      <td>0:00</td>\n",
       "      <td>72.500</td>\n",
       "      <td>70.00</td>\n",
       "      <td>29.8325</td>\n",
       "      <td>21-06-2016</td>\n",
       "    </tr>\n",
       "    <tr>\n",
       "      <th>1</th>\n",
       "      <td>4:00</td>\n",
       "      <td>76.225</td>\n",
       "      <td>62.50</td>\n",
       "      <td>29.7900</td>\n",
       "      <td>21-06-2016</td>\n",
       "    </tr>\n",
       "    <tr>\n",
       "      <th>2</th>\n",
       "      <td>8:00</td>\n",
       "      <td>82.475</td>\n",
       "      <td>34.25</td>\n",
       "      <td>29.8375</td>\n",
       "      <td>21-06-2016</td>\n",
       "    </tr>\n",
       "    <tr>\n",
       "      <th>3</th>\n",
       "      <td>12:00</td>\n",
       "      <td>85.725</td>\n",
       "      <td>35.50</td>\n",
       "      <td>29.8075</td>\n",
       "      <td>21-06-2016</td>\n",
       "    </tr>\n",
       "    <tr>\n",
       "      <th>4</th>\n",
       "      <td>16:00</td>\n",
       "      <td>80.525</td>\n",
       "      <td>56.25</td>\n",
       "      <td>29.7625</td>\n",
       "      <td>21-06-2016</td>\n",
       "    </tr>\n",
       "  </tbody>\n",
       "</table>\n",
       "</div>"
      ],
      "text/plain": [
       "    Time   Temp.  Humidity  Pressure         Day\n",
       "0   0:00  72.500     70.00   29.8325  21-06-2016\n",
       "1   4:00  76.225     62.50   29.7900  21-06-2016\n",
       "2   8:00  82.475     34.25   29.8375  21-06-2016\n",
       "3  12:00  85.725     35.50   29.8075  21-06-2016\n",
       "4  16:00  80.525     56.25   29.7625  21-06-2016"
      ]
     },
     "execution_count": 12,
     "metadata": {},
     "output_type": "execute_result"
    }
   ],
   "source": [
    "weather.head()"
   ]
  },
  {
   "cell_type": "code",
   "execution_count": 13,
   "metadata": {
    "collapsed": true
   },
   "outputs": [],
   "source": [
    "weather['date']= sensor.date"
   ]
  },
  {
   "cell_type": "code",
   "execution_count": 14,
   "metadata": {
    "collapsed": false
   },
   "outputs": [],
   "source": [
    "sensor_weather = pd.merge(sensor, weather, on ='date')"
   ]
  },
  {
   "cell_type": "code",
   "execution_count": 15,
   "metadata": {
    "collapsed": false
   },
   "outputs": [
    {
     "data": {
      "text/html": [
       "<div>\n",
       "<table border=\"1\" class=\"dataframe\">\n",
       "  <thead>\n",
       "    <tr style=\"text-align: right;\">\n",
       "      <th></th>\n",
       "      <th>dt</th>\n",
       "      <th>con</th>\n",
       "      <th>spl</th>\n",
       "      <th>date</th>\n",
       "      <th>time</th>\n",
       "      <th>Time</th>\n",
       "      <th>Temp.</th>\n",
       "      <th>Humidity</th>\n",
       "      <th>Pressure</th>\n",
       "      <th>Day</th>\n",
       "    </tr>\n",
       "  </thead>\n",
       "  <tbody>\n",
       "    <tr>\n",
       "      <th>0</th>\n",
       "      <td>2016-06-21 00:00:00</td>\n",
       "      <td>2134.281875</td>\n",
       "      <td>70.893124</td>\n",
       "      <td>2016-06-21</td>\n",
       "      <td>00:00:00</td>\n",
       "      <td>0:00</td>\n",
       "      <td>72.500</td>\n",
       "      <td>70.00</td>\n",
       "      <td>29.8325</td>\n",
       "      <td>21-06-2016</td>\n",
       "    </tr>\n",
       "    <tr>\n",
       "      <th>1</th>\n",
       "      <td>2016-06-21 00:00:00</td>\n",
       "      <td>2134.281875</td>\n",
       "      <td>70.893124</td>\n",
       "      <td>2016-06-21</td>\n",
       "      <td>00:00:00</td>\n",
       "      <td>4:00</td>\n",
       "      <td>76.225</td>\n",
       "      <td>62.50</td>\n",
       "      <td>29.7900</td>\n",
       "      <td>21-06-2016</td>\n",
       "    </tr>\n",
       "    <tr>\n",
       "      <th>2</th>\n",
       "      <td>2016-06-21 00:00:00</td>\n",
       "      <td>2134.281875</td>\n",
       "      <td>70.893124</td>\n",
       "      <td>2016-06-21</td>\n",
       "      <td>00:00:00</td>\n",
       "      <td>8:00</td>\n",
       "      <td>82.475</td>\n",
       "      <td>34.25</td>\n",
       "      <td>29.8375</td>\n",
       "      <td>21-06-2016</td>\n",
       "    </tr>\n",
       "    <tr>\n",
       "      <th>3</th>\n",
       "      <td>2016-06-21 00:00:00</td>\n",
       "      <td>2134.281875</td>\n",
       "      <td>70.893124</td>\n",
       "      <td>2016-06-21</td>\n",
       "      <td>00:00:00</td>\n",
       "      <td>12:00</td>\n",
       "      <td>85.725</td>\n",
       "      <td>35.50</td>\n",
       "      <td>29.8075</td>\n",
       "      <td>21-06-2016</td>\n",
       "    </tr>\n",
       "    <tr>\n",
       "      <th>4</th>\n",
       "      <td>2016-06-21 00:00:00</td>\n",
       "      <td>2134.281875</td>\n",
       "      <td>70.893124</td>\n",
       "      <td>2016-06-21</td>\n",
       "      <td>00:00:00</td>\n",
       "      <td>16:00</td>\n",
       "      <td>80.525</td>\n",
       "      <td>56.25</td>\n",
       "      <td>29.7625</td>\n",
       "      <td>21-06-2016</td>\n",
       "    </tr>\n",
       "  </tbody>\n",
       "</table>\n",
       "</div>"
      ],
      "text/plain": [
       "                    dt          con        spl        date      time   Time  \\\n",
       "0  2016-06-21 00:00:00  2134.281875  70.893124  2016-06-21  00:00:00   0:00   \n",
       "1  2016-06-21 00:00:00  2134.281875  70.893124  2016-06-21  00:00:00   4:00   \n",
       "2  2016-06-21 00:00:00  2134.281875  70.893124  2016-06-21  00:00:00   8:00   \n",
       "3  2016-06-21 00:00:00  2134.281875  70.893124  2016-06-21  00:00:00  12:00   \n",
       "4  2016-06-21 00:00:00  2134.281875  70.893124  2016-06-21  00:00:00  16:00   \n",
       "\n",
       "    Temp.  Humidity  Pressure         Day  \n",
       "0  72.500     70.00   29.8325  21-06-2016  \n",
       "1  76.225     62.50   29.7900  21-06-2016  \n",
       "2  82.475     34.25   29.8375  21-06-2016  \n",
       "3  85.725     35.50   29.8075  21-06-2016  \n",
       "4  80.525     56.25   29.7625  21-06-2016  "
      ]
     },
     "execution_count": 15,
     "metadata": {},
     "output_type": "execute_result"
    }
   ],
   "source": [
    "sensor_weather.head()"
   ]
  },
  {
   "cell_type": "code",
   "execution_count": 16,
   "metadata": {
    "collapsed": false
   },
   "outputs": [
    {
     "data": {
      "image/png": "[encoded data removed]",
      "text/plain": [
       "<matplotlib.figure.Figure at 0xc544e48>"
      ]
     },
     "metadata": {},
     "output_type": "display_data"
    }
   ],
   "source": [
    "plt.figure(figsize= (5,5))\n",
    "plt.scatter(sensor_weather.con,sensor_weather['Humidity'],c = 'IndianRed')\n",
    "plt.title('Particles Concentration vs log Humidity', size = 15)\n",
    "plt.ylabel('Humidity', size = 15)\n",
    "plt.xlabel('Particles Concentration', size = 15)\n",
    "plt.show()"
   ]
  },
  {
   "cell_type": "markdown",
   "metadata": {},
   "source": [
    "**Fig 1:** Scatterplot of Particles concetration (particle count per 0.01 cubic feet) and Humidity (%)"
   ]
  },
  {
   "cell_type": "code",
   "execution_count": 17,
   "metadata": {
    "collapsed": true
   },
   "outputs": [],
   "source": [
    "sensor_weather['Humidity_log'] = np.log(sensor_weather['Humidity'])\n",
    "sensor_weather['con_log'] = np.log(sensor_weather.con)"
   ]
  },
  {
   "cell_type": "code",
   "execution_count": 18,
   "metadata": {
    "collapsed": false
   },
   "outputs": [
    {
     "data": {
      "image/png": "[encoded data removed]",
      "text/plain": [
       "<matplotlib.figure.Figure at 0xc59ae48>"
      ]
     },
     "metadata": {},
     "output_type": "display_data"
    }
   ],
   "source": [
    "plt.figure(figsize= (5,5))\n",
    "plt.scatter(sensor_weather['con_log'],sensor_weather['Humidity_log'],c = 'IndianRed')\n",
    "\n",
    "plt.title('log Particles Concentration vs log Humidity', size = 15)\n",
    "plt.ylabel('log Humidity', size = 15)\n",
    "plt.xlabel('log Particles Concentration', size = 15)\n",
    "plt.show()"
   ]
  },
  {
   "cell_type": "markdown",
   "metadata": {},
   "source": [
    "**Fig2:** Scatterplot of logarithm of Particles concetration (particle count per 0.01 cubic feet) and logarithm of Humidity (%)"
   ]
  },
  {
   "cell_type": "code",
   "execution_count": 19,
   "metadata": {
    "collapsed": false
   },
   "outputs": [],
   "source": [
    "lm = smf.ols(formula = 'con_log ~ Humidity_log', data = sensor_weather).fit()"
   ]
  },
  {
   "cell_type": "code",
   "execution_count": 20,
   "metadata": {
    "collapsed": false
   },
   "outputs": [
    {
     "name": "stdout",
     "output_type": "stream",
     "text": [
      "Correlation coefficient: 0.108551\n"
     ]
    }
   ],
   "source": [
    "print 'Correlation coefficient: %f' % (stats.pearsonr(sensor_weather['Humidity_log'],sensor_weather['con_log'])[0])"
   ]
  },
  {
   "cell_type": "markdown",
   "metadata": {
    "collapsed": false
   },
   "source": [
    "There is no correlation between the concentration and the Humidity."
   ]
  },
  {
   "cell_type": "code",
   "execution_count": 21,
   "metadata": {
    "collapsed": false
   },
   "outputs": [],
   "source": [
    "sensor_weather['Temp_log'] =np.log(sensor_weather['Temp.'])"
   ]
  },
  {
   "cell_type": "code",
   "execution_count": 22,
   "metadata": {
    "collapsed": false
   },
   "outputs": [
    {
     "data": {
      "image/png": "[encoded data removed]",
      "text/plain": [
       "<matplotlib.figure.Figure at 0xc692358>"
      ]
     },
     "metadata": {},
     "output_type": "display_data"
    }
   ],
   "source": [
    "#plt.figure(figsize= (10,10)\n",
    "plt.scatter(sensor_weather['con_log'],sensor_weather['Temp_log'],c = 'IndianRed')\n",
    "plt.title('log Particles Concentration vs log Temperature', size = 15)\n",
    "plt.ylabel('log Temperature', size = 15)\n",
    "plt.xlabel('log Particles Concentration', size = 15)\n",
    "plt.show()"
   ]
  },
  {
   "cell_type": "markdown",
   "metadata": {},
   "source": [
    "**Fig3:** Scatterplot of logarithm of Particles concetration (particle count per 0.01 cubic feet) and logarithm of Temperature (ºF)"
   ]
  },
  {
   "cell_type": "code",
   "execution_count": 23,
   "metadata": {
    "collapsed": true
   },
   "outputs": [],
   "source": [
    "lm = smf.ols(formula = 'con_log ~ Temp_log', data = sensor_weather).fit()"
   ]
  },
  {
   "cell_type": "code",
   "execution_count": 24,
   "metadata": {
    "collapsed": false
   },
   "outputs": [
    {
     "name": "stdout",
     "output_type": "stream",
     "text": [
      "Correlation coefficient: 0.163251\n"
     ]
    }
   ],
   "source": [
    "print 'Correlation coefficient: %f' % (stats.pearsonr(sensor_weather['Temp_log'],sensor_weather['con_log'])[0])"
   ]
  },
  {
   "cell_type": "markdown",
   "metadata": {},
   "source": [
    "There is no correlation between the concentration and the Temperature."
   ]
  },
  {
   "cell_type": "code",
   "execution_count": 31,
   "metadata": {
    "collapsed": true
   },
   "outputs": [],
   "source": [
    "##Viewing the specific dates from the detencion analysis:"
   ]
  },
  {
   "cell_type": "code",
   "execution_count": 32,
   "metadata": {
    "collapsed": false
   },
   "outputs": [
    {
     "name": "stderr",
     "output_type": "stream",
     "text": [
      "C:\\Users\\enrique\\Anaconda2\\lib\\site-packages\\ipykernel\\__main__.py:1: UserWarning: Boolean Series key will be reindexed to match DataFrame index.\n",
      "  if __name__ == '__main__':\n"
     ]
    },
    {
     "data": {
      "text/html": [
       "<div>\n",
       "<table border=\"1\" class=\"dataframe\">\n",
       "  <thead>\n",
       "    <tr style=\"text-align: right;\">\n",
       "      <th></th>\n",
       "      <th>Time</th>\n",
       "      <th>Temp.</th>\n",
       "      <th>Humidity</th>\n",
       "      <th>Pressure</th>\n",
       "      <th>Day</th>\n",
       "      <th>date</th>\n",
       "    </tr>\n",
       "  </thead>\n",
       "  <tbody>\n",
       "    <tr>\n",
       "      <th>41</th>\n",
       "      <td>20:00</td>\n",
       "      <td>70.82</td>\n",
       "      <td>89.6</td>\n",
       "      <td>30.012</td>\n",
       "      <td>27-06-2016</td>\n",
       "      <td>2016-06-27</td>\n",
       "    </tr>\n",
       "  </tbody>\n",
       "</table>\n",
       "</div>"
      ],
      "text/plain": [
       "     Time  Temp.  Humidity  Pressure         Day        date\n",
       "41  20:00  70.82      89.6    30.012  27-06-2016  2016-06-27"
      ]
     },
     "execution_count": 32,
     "metadata": {},
     "output_type": "execute_result"
    }
   ],
   "source": [
    "weather[weather.date == '2016-06-27'][weather.Time=='20:00']"
   ]
  },
  {
   "cell_type": "code",
   "execution_count": 33,
   "metadata": {
    "collapsed": false
   },
   "outputs": [
    {
     "name": "stderr",
     "output_type": "stream",
     "text": [
      "C:\\Users\\enrique\\Anaconda2\\lib\\site-packages\\ipykernel\\__main__.py:1: UserWarning: Boolean Series key will be reindexed to match DataFrame index.\n",
      "  if __name__ == '__main__':\n"
     ]
    },
    {
     "data": {
      "text/html": [
       "<div>\n",
       "<table border=\"1\" class=\"dataframe\">\n",
       "  <thead>\n",
       "    <tr style=\"text-align: right;\">\n",
       "      <th></th>\n",
       "      <th>Time</th>\n",
       "      <th>Temp.</th>\n",
       "      <th>Humidity</th>\n",
       "      <th>Pressure</th>\n",
       "      <th>Day</th>\n",
       "      <th>date</th>\n",
       "    </tr>\n",
       "  </thead>\n",
       "  <tbody>\n",
       "    <tr>\n",
       "      <th>50</th>\n",
       "      <td>8:00</td>\n",
       "      <td>74.7</td>\n",
       "      <td>70.833333</td>\n",
       "      <td>29.898333</td>\n",
       "      <td>29-06-2016</td>\n",
       "      <td>2016-06-29</td>\n",
       "    </tr>\n",
       "  </tbody>\n",
       "</table>\n",
       "</div>"
      ],
      "text/plain": [
       "    Time  Temp.   Humidity   Pressure         Day        date\n",
       "50  8:00   74.7  70.833333  29.898333  29-06-2016  2016-06-29"
      ]
     },
     "execution_count": 33,
     "metadata": {},
     "output_type": "execute_result"
    }
   ],
   "source": [
    "weather[weather.date == '2016-06-29'][weather.Time=='8:00']"
   ]
  },
  {
   "cell_type": "code",
   "execution_count": 34,
   "metadata": {
    "collapsed": false
   },
   "outputs": [
    {
     "name": "stderr",
     "output_type": "stream",
     "text": [
      "C:\\Users\\enrique\\Anaconda2\\lib\\site-packages\\ipykernel\\__main__.py:1: UserWarning: Boolean Series key will be reindexed to match DataFrame index.\n",
      "  if __name__ == '__main__':\n"
     ]
    },
    {
     "data": {
      "text/html": [
       "<div>\n",
       "<table border=\"1\" class=\"dataframe\">\n",
       "  <thead>\n",
       "    <tr style=\"text-align: right;\">\n",
       "      <th></th>\n",
       "      <th>Time</th>\n",
       "      <th>Temp.</th>\n",
       "      <th>Humidity</th>\n",
       "      <th>Pressure</th>\n",
       "      <th>Day</th>\n",
       "      <th>date</th>\n",
       "    </tr>\n",
       "  </thead>\n",
       "  <tbody>\n",
       "    <tr>\n",
       "      <th>51</th>\n",
       "      <td>12:00</td>\n",
       "      <td>81.025</td>\n",
       "      <td>49.75</td>\n",
       "      <td>29.865</td>\n",
       "      <td>29-06-2016</td>\n",
       "      <td>2016-06-29</td>\n",
       "    </tr>\n",
       "  </tbody>\n",
       "</table>\n",
       "</div>"
      ],
      "text/plain": [
       "     Time   Temp.  Humidity  Pressure         Day        date\n",
       "51  12:00  81.025     49.75    29.865  29-06-2016  2016-06-29"
      ]
     },
     "execution_count": 34,
     "metadata": {},
     "output_type": "execute_result"
    }
   ],
   "source": [
    "weather[weather.date == '2016-06-29'][weather.Time=='12:00']"
   ]
  },
  {
   "cell_type": "code",
   "execution_count": 35,
   "metadata": {
    "collapsed": false
   },
   "outputs": [
    {
     "name": "stderr",
     "output_type": "stream",
     "text": [
      "C:\\Users\\enrique\\Anaconda2\\lib\\site-packages\\ipykernel\\__main__.py:1: UserWarning: Boolean Series key will be reindexed to match DataFrame index.\n",
      "  if __name__ == '__main__':\n"
     ]
    },
    {
     "data": {
      "text/html": [
       "<div>\n",
       "<table border=\"1\" class=\"dataframe\">\n",
       "  <thead>\n",
       "    <tr style=\"text-align: right;\">\n",
       "      <th></th>\n",
       "      <th>Time</th>\n",
       "      <th>Temp.</th>\n",
       "      <th>Humidity</th>\n",
       "      <th>Pressure</th>\n",
       "      <th>Day</th>\n",
       "      <th>date</th>\n",
       "    </tr>\n",
       "  </thead>\n",
       "  <tbody>\n",
       "    <tr>\n",
       "      <th>101</th>\n",
       "      <td>20:00</td>\n",
       "      <td>82.675</td>\n",
       "      <td>64.25</td>\n",
       "      <td>29.82</td>\n",
       "      <td>6/7/2016</td>\n",
       "      <td>2016-07-08</td>\n",
       "    </tr>\n",
       "  </tbody>\n",
       "</table>\n",
       "</div>"
      ],
      "text/plain": [
       "      Time   Temp.  Humidity  Pressure       Day        date\n",
       "101  20:00  82.675     64.25     29.82  6/7/2016  2016-07-08"
      ]
     },
     "execution_count": 35,
     "metadata": {},
     "output_type": "execute_result"
    }
   ],
   "source": [
    "weather[weather.date == '2016-07-08'][weather.Time=='20:00']"
   ]
  },
  {
   "cell_type": "code",
   "execution_count": 36,
   "metadata": {
    "collapsed": false
   },
   "outputs": [
    {
     "name": "stderr",
     "output_type": "stream",
     "text": [
      "C:\\Users\\enrique\\Anaconda2\\lib\\site-packages\\ipykernel\\__main__.py:1: UserWarning: Boolean Series key will be reindexed to match DataFrame index.\n",
      "  if __name__ == '__main__':\n"
     ]
    },
    {
     "data": {
      "text/html": [
       "<div>\n",
       "<table border=\"1\" class=\"dataframe\">\n",
       "  <thead>\n",
       "    <tr style=\"text-align: right;\">\n",
       "      <th></th>\n",
       "      <th>Time</th>\n",
       "      <th>Temp.</th>\n",
       "      <th>Humidity</th>\n",
       "      <th>Pressure</th>\n",
       "      <th>Day</th>\n",
       "      <th>date</th>\n",
       "    </tr>\n",
       "  </thead>\n",
       "  <tbody>\n",
       "    <tr>\n",
       "      <th>105</th>\n",
       "      <td>12:00</td>\n",
       "      <td>82.65</td>\n",
       "      <td>73.166667</td>\n",
       "      <td>29.746667</td>\n",
       "      <td>7/7/2016</td>\n",
       "      <td>2016-07-10</td>\n",
       "    </tr>\n",
       "  </tbody>\n",
       "</table>\n",
       "</div>"
      ],
      "text/plain": [
       "      Time  Temp.   Humidity   Pressure       Day        date\n",
       "105  12:00  82.65  73.166667  29.746667  7/7/2016  2016-07-10"
      ]
     },
     "execution_count": 36,
     "metadata": {},
     "output_type": "execute_result"
    }
   ],
   "source": [
    "weather[weather.date == '2016-07-10'][weather.Time=='12:00']"
   ]
  },
  {
   "cell_type": "markdown",
   "metadata": {},
   "source": [
    "Viewing the details days and hours from the events , also we can see that there no relation as spearman showed , but it is more likely to be a correlation with pressure than threy are around 30."
   ]
  },
  {
   "cell_type": "markdown",
   "metadata": {},
   "source": [
    "**Land USE and sensors**"
   ]
  },
  {
   "cell_type": "code",
   "execution_count": 25,
   "metadata": {
    "collapsed": false
   },
   "outputs": [
    {
     "name": "stderr",
     "output_type": "stream",
     "text": [
      "C:\\Users\\enrique\\Anaconda2\\lib\\site-packages\\IPython\\core\\interactiveshell.py:2717: DtypeWarning: Columns (18,19,21,22,23,24,25,63,64,79) have mixed types. Specify dtype option on import or set low_memory=False.\n",
      "  interactivity=interactivity, compiler=compiler, result=result)\n"
     ]
    }
   ],
   "source": [
    "pluto = pd.read_csv('BK.csv')"
   ]
  },
  {
   "cell_type": "code",
   "execution_count": 26,
   "metadata": {
    "collapsed": false
   },
   "outputs": [],
   "source": [
    "red_hook = pluto[pluto.ZipCode == 11231]"
   ]
  },
  {
   "cell_type": "code",
   "execution_count": 27,
   "metadata": {
    "collapsed": false
   },
   "outputs": [],
   "source": [
    "S0 = red_hook[red_hook.Address == '767 HICKS STREET']"
   ]
  },
  {
   "cell_type": "code",
   "execution_count": 28,
   "metadata": {
    "collapsed": false
   },
   "outputs": [
    {
     "data": {
      "text/plain": [
       "9115    6.0\n",
       "Name: LandUse, dtype: float64"
      ]
     },
     "execution_count": 28,
     "metadata": {},
     "output_type": "execute_result"
    }
   ],
   "source": [
    "S0.LandUse"
   ]
  },
  {
   "cell_type": "code",
   "execution_count": 29,
   "metadata": {
    "collapsed": true
   },
   "outputs": [],
   "source": [
    "S2 = red_hook[red_hook.Address == '106 FERRIS STREET']"
   ]
  },
  {
   "cell_type": "code",
   "execution_count": 30,
   "metadata": {
    "collapsed": false,
    "scrolled": true
   },
   "outputs": [
    {
     "data": {
      "text/plain": [
       "9665    6.0\n",
       "Name: LandUse, dtype: float64"
      ]
     },
     "execution_count": 30,
     "metadata": {},
     "output_type": "execute_result"
    }
   ],
   "source": [
    "S2.LandUse"
   ]
  },
  {
   "cell_type": "markdown",
   "metadata": {},
   "source": [
    "It can be a relationship between LandUse and the sensors data as the type is the same"
   ]
  },
  {
   "cell_type": "markdown",
   "metadata": {},
   "source": [
    "**Noise**"
   ]
  },
  {
   "cell_type": "markdown",
   "metadata": {},
   "source": [
    "The noise level that was higher than the rest of the time is at 12 pm at 6/22"
   ]
  },
  {
   "cell_type": "code",
   "execution_count": 46,
   "metadata": {
    "collapsed": false
   },
   "outputs": [
    {
     "name": "stderr",
     "output_type": "stream",
     "text": [
      "C:\\Users\\enrique\\Anaconda2\\lib\\site-packages\\IPython\\core\\interactiveshell.py:2717: DtypeWarning: Columns (7,20) have mixed types. Specify dtype option on import or set low_memory=False.\n",
      "  interactivity=interactivity, compiler=compiler, result=result)\n"
     ]
    }
   ],
   "source": [
    "compl = pd.read_csv('311_Service_Requests_from_2010_to_Present.csv')"
   ]
  },
  {
   "cell_type": "code",
   "execution_count": 51,
   "metadata": {
    "collapsed": false
   },
   "outputs": [],
   "source": [
    "RHC = compl[compl['Incident Zip']==11231]"
   ]
  },
  {
   "cell_type": "code",
   "execution_count": 63,
   "metadata": {
    "collapsed": false
   },
   "outputs": [],
   "source": [
    "date=[]\n",
    "for i in RHC['Created Date']:\n",
    "    date.append(i.split(' ')[0])"
   ]
  },
  {
   "cell_type": "code",
   "execution_count": 67,
   "metadata": {
    "collapsed": false
   },
   "outputs": [
    {
     "name": "stderr",
     "output_type": "stream",
     "text": [
      "C:\\Users\\enrique\\Anaconda2\\lib\\site-packages\\ipykernel\\__main__.py:1: SettingWithCopyWarning: \n",
      "A value is trying to be set on a copy of a slice from a DataFrame.\n",
      "Try using .loc[row_indexer,col_indexer] = value instead\n",
      "\n",
      "See the caveats in the documentation: http://pandas.pydata.org/pandas-docs/stable/indexing.html#indexing-view-versus-copy\n",
      "  if __name__ == '__main__':\n"
     ]
    }
   ],
   "source": [
    "RHC['day']=date"
   ]
  },
  {
   "cell_type": "code",
   "execution_count": 70,
   "metadata": {
    "collapsed": false
   },
   "outputs": [
    {
     "data": {
      "text/html": [
       "<div>\n",
       "<table border=\"1\" class=\"dataframe\">\n",
       "  <thead>\n",
       "    <tr style=\"text-align: right;\">\n",
       "      <th></th>\n",
       "      <th>﻿Unique Key</th>\n",
       "      <th>Created Date</th>\n",
       "      <th>Closed Date</th>\n",
       "      <th>Agency</th>\n",
       "      <th>Agency Name</th>\n",
       "      <th>Complaint Type</th>\n",
       "      <th>Descriptor</th>\n",
       "      <th>Location Type</th>\n",
       "      <th>Incident Zip</th>\n",
       "      <th>Incident Address</th>\n",
       "      <th>...</th>\n",
       "      <th>Bridge Highway Direction</th>\n",
       "      <th>Road Ramp</th>\n",
       "      <th>Bridge Highway Segment</th>\n",
       "      <th>Garage Lot Name</th>\n",
       "      <th>Ferry Direction</th>\n",
       "      <th>Ferry Terminal Name</th>\n",
       "      <th>Latitude</th>\n",
       "      <th>Longitude</th>\n",
       "      <th>Location</th>\n",
       "      <th>day</th>\n",
       "    </tr>\n",
       "  </thead>\n",
       "  <tbody>\n",
       "    <tr>\n",
       "      <th>19192</th>\n",
       "      <td>33811112</td>\n",
       "      <td>07/11/2016 11:50:00 AM</td>\n",
       "      <td>07/12/2016 10:00:00 AM</td>\n",
       "      <td>DEP</td>\n",
       "      <td>Department of Environmental Protection</td>\n",
       "      <td>Noise</td>\n",
       "      <td>Noise: Alarms (NR3)</td>\n",
       "      <td>NaN</td>\n",
       "      <td>11231.0</td>\n",
       "      <td>301 DEGRAW STREET</td>\n",
       "      <td>...</td>\n",
       "      <td>NaN</td>\n",
       "      <td>NaN</td>\n",
       "      <td>NaN</td>\n",
       "      <td>NaN</td>\n",
       "      <td>NaN</td>\n",
       "      <td>NaN</td>\n",
       "      <td>40.683451</td>\n",
       "      <td>-73.994451</td>\n",
       "      <td>(40.683450761880025, -73.99445104779147)</td>\n",
       "      <td>07/11/2016</td>\n",
       "    </tr>\n",
       "    <tr>\n",
       "      <th>19252</th>\n",
       "      <td>33815570</td>\n",
       "      <td>07/11/2016 01:38:00 PM</td>\n",
       "      <td>07/15/2016 11:00:00 AM</td>\n",
       "      <td>DEP</td>\n",
       "      <td>Department of Environmental Protection</td>\n",
       "      <td>Noise</td>\n",
       "      <td>Noise: air condition/ventilation equipment (NV1)</td>\n",
       "      <td>NaN</td>\n",
       "      <td>11231.0</td>\n",
       "      <td>295 SMITH STREET</td>\n",
       "      <td>...</td>\n",
       "      <td>NaN</td>\n",
       "      <td>NaN</td>\n",
       "      <td>NaN</td>\n",
       "      <td>NaN</td>\n",
       "      <td>NaN</td>\n",
       "      <td>NaN</td>\n",
       "      <td>40.681927</td>\n",
       "      <td>-73.993705</td>\n",
       "      <td>(40.68192737484613, -73.99370484130436)</td>\n",
       "      <td>07/11/2016</td>\n",
       "    </tr>\n",
       "    <tr>\n",
       "      <th>294093</th>\n",
       "      <td>33810053</td>\n",
       "      <td>07/11/2016 08:51:00 PM</td>\n",
       "      <td>07/13/2016 12:30:00 AM</td>\n",
       "      <td>DEP</td>\n",
       "      <td>Department of Environmental Protection</td>\n",
       "      <td>Noise</td>\n",
       "      <td>Noise: Construction Before/After Hours (NM1)</td>\n",
       "      <td>NaN</td>\n",
       "      <td>11231.0</td>\n",
       "      <td>BUTLER STREET</td>\n",
       "      <td>...</td>\n",
       "      <td>NaN</td>\n",
       "      <td>NaN</td>\n",
       "      <td>NaN</td>\n",
       "      <td>NaN</td>\n",
       "      <td>NaN</td>\n",
       "      <td>NaN</td>\n",
       "      <td>40.684639</td>\n",
       "      <td>-73.993387</td>\n",
       "      <td>(40.68463919187584, -73.9933872906276)</td>\n",
       "      <td>07/11/2016</td>\n",
       "    </tr>\n",
       "  </tbody>\n",
       "</table>\n",
       "<p>3 rows × 54 columns</p>\n",
       "</div>"
      ],
      "text/plain": [
       "        ﻿Unique Key            Created Date             Closed Date Agency  \\\n",
       "19192      33811112  07/11/2016 11:50:00 AM  07/12/2016 10:00:00 AM    DEP   \n",
       "19252      33815570  07/11/2016 01:38:00 PM  07/15/2016 11:00:00 AM    DEP   \n",
       "294093     33810053  07/11/2016 08:51:00 PM  07/13/2016 12:30:00 AM    DEP   \n",
       "\n",
       "                                   Agency Name Complaint Type  \\\n",
       "19192   Department of Environmental Protection          Noise   \n",
       "19252   Department of Environmental Protection          Noise   \n",
       "294093  Department of Environmental Protection          Noise   \n",
       "\n",
       "                                              Descriptor Location Type  \\\n",
       "19192                                Noise: Alarms (NR3)           NaN   \n",
       "19252   Noise: air condition/ventilation equipment (NV1)           NaN   \n",
       "294093      Noise: Construction Before/After Hours (NM1)           NaN   \n",
       "\n",
       "        Incident Zip   Incident Address     ...     Bridge Highway Direction  \\\n",
       "19192        11231.0  301 DEGRAW STREET     ...                          NaN   \n",
       "19252        11231.0   295 SMITH STREET     ...                          NaN   \n",
       "294093       11231.0      BUTLER STREET     ...                          NaN   \n",
       "\n",
       "       Road Ramp Bridge Highway Segment Garage Lot Name Ferry Direction  \\\n",
       "19192        NaN                    NaN             NaN             NaN   \n",
       "19252        NaN                    NaN             NaN             NaN   \n",
       "294093       NaN                    NaN             NaN             NaN   \n",
       "\n",
       "       Ferry Terminal Name   Latitude  Longitude  \\\n",
       "19192                  NaN  40.683451 -73.994451   \n",
       "19252                  NaN  40.681927 -73.993705   \n",
       "294093                 NaN  40.684639 -73.993387   \n",
       "\n",
       "                                        Location         day  \n",
       "19192   (40.683450761880025, -73.99445104779147)  07/11/2016  \n",
       "19252    (40.68192737484613, -73.99370484130436)  07/11/2016  \n",
       "294093    (40.68463919187584, -73.9933872906276)  07/11/2016  \n",
       "\n",
       "[3 rows x 54 columns]"
      ]
     },
     "execution_count": 70,
     "metadata": {},
     "output_type": "execute_result"
    }
   ],
   "source": [
    "RHC[RHC['day']=='07/11/2016']"
   ]
  },
  {
   "cell_type": "markdown",
   "metadata": {},
   "source": [
    "It can see that be detected that the sensors detected the noise from the alarm"
   ]
  }
 ],
 "metadata": {
  "anaconda-cloud": {},
  "kernelspec": {
   "display_name": "Python [conda root]",
   "language": "python",
   "name": "conda-root-py"
  },
  "language_info": {
   "codemirror_mode": {
    "name": "ipython",
    "version": 2
   },
   "file_extension": ".py",
   "mimetype": "text/x-python",
   "name": "python",
   "nbconvert_exporter": "python",
   "pygments_lexer": "ipython2",
   "version": "2.7.12"
  }
 },
 "nbformat": 4,
 "nbformat_minor": 1
}
