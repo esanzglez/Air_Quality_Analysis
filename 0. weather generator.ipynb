{
 "cells": [
  {
   "cell_type": "markdown",
   "metadata": {},
   "source": [
    "** Script used to enhance the table of the weather hourly data to create the final data. Generates a file csv.that it is added to the final csv later.**\n",
    "\n",
    "Data source : https://www.wunderground.com/history/airport/KJFK/2016/6/23/DailyHistory.html"
   ]
  },
  {
   "cell_type": "code",
   "execution_count": null,
   "metadata": {
    "collapsed": false
   },
   "outputs": [],
   "source": [
    "#importing all the module\n",
    "import pandas as pd\n",
    "import numpy as np\n",
    "import matplotlib.pyplot as plt\n",
    "import statsmodels.formula.api as smf\n",
    "%matplotlib inline"
   ]
  },
  {
   "cell_type": "code",
   "execution_count": null,
   "metadata": {
    "collapsed": true
   },
   "outputs": [],
   "source": [
    "def time(data):\n",
    "    global time_list\n",
    "    time_list=[]\n",
    "    for i in range(0,len(data['Time (EDT)'])):\n",
    "        y = data['Time (EDT)'][i][:2]\n",
    "        if y <'04':\n",
    "            time_list.append('00:00')\n",
    "        elif y >='04'and y<'08':\n",
    "            time_list.append('04:00')\n",
    "        elif y >='08'and y<'12':\n",
    "            time_list.append('08:00')\n",
    "        elif y >='12'and y<'16':\n",
    "            time_list.append('12:00')\n",
    "        elif y >='16'and y<'20':\n",
    "            time_list.append('16:00')\n",
    "        else:\n",
    "            time_list.append('20:00')\n",
    "    return time_list"
   ]
  },
  {
   "cell_type": "code",
   "execution_count": null,
   "metadata": {
    "collapsed": true
   },
   "outputs": [],
   "source": [
    "def weather(data_file,fecha):\n",
    "    data = pd.read_csv(data_file)\n",
    "    time(data)\n",
    "    data['Time'] = time_list\n",
    "    data = data.groupby(by='Time').mean().reset_index()\n",
    "    data['Day'] = fecha\n",
    "    data.to_csv(fecha)\n",
    "    return data"
   ]
  },
  {
   "cell_type": "code",
   "execution_count": null,
   "metadata": {
    "collapsed": false
   },
   "outputs": [],
   "source": [
    "weather('weather2 - 23_06.csv','23-06-2016')"
   ]
  }
 ],
 "metadata": {
  "anaconda-cloud": {},
  "kernelspec": {
   "display_name": "Python [conda root]",
   "language": "python",
   "name": "conda-root-py"
  },
  "language_info": {
   "codemirror_mode": {
    "name": "ipython",
    "version": 2
   },
   "file_extension": ".py",
   "mimetype": "text/x-python",
   "name": "python",
   "nbconvert_exporter": "python",
   "pygments_lexer": "ipython2",
   "version": "2.7.12"
  }
 },
 "nbformat": 4,
 "nbformat_minor": 1
}
