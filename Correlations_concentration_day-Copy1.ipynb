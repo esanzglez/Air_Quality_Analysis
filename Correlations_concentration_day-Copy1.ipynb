{
 "cells": [
  {
   "cell_type": "code",
   "execution_count": 2,
   "metadata": {
    "collapsed": true
   },
   "outputs": [],
   "source": [
    "#importing all the module\n",
    "import pandas as pd\n",
    "import numpy as np\n",
    "import matplotlib.pyplot as plt\n",
    "import statsmodels.formula.api as smf\n",
    "%matplotlib inline"
   ]
  },
  {
   "cell_type": "code",
   "execution_count": 3,
   "metadata": {
    "collapsed": false
   },
   "outputs": [],
   "source": [
    "sensor = pd.read_csv('sensor0.csv')"
   ]
  },
  {
   "cell_type": "code",
   "execution_count": 4,
   "metadata": {
    "collapsed": false
   },
   "outputs": [],
   "source": [
    "sensor.drop(['Unnamed: 0','dt'],axis=1, inplace=True)"
   ]
  },
  {
   "cell_type": "code",
   "execution_count": 5,
   "metadata": {
    "collapsed": false
   },
   "outputs": [
    {
     "data": {
      "text/html": [
       "<div>\n",
       "<table border=\"1\" class=\"dataframe\">\n",
       "  <thead>\n",
       "    <tr style=\"text-align: right;\">\n",
       "      <th></th>\n",
       "      <th>sensor</th>\n",
       "      <th>con</th>\n",
       "      <th>spl</th>\n",
       "      <th>date</th>\n",
       "      <th>time</th>\n",
       "    </tr>\n",
       "  </thead>\n",
       "  <tbody>\n",
       "    <tr>\n",
       "      <th>0</th>\n",
       "      <td>sensor_0</td>\n",
       "      <td>2834.03125</td>\n",
       "      <td>66.308479</td>\n",
       "      <td>2016-06-21</td>\n",
       "      <td>00:00:00</td>\n",
       "    </tr>\n",
       "    <tr>\n",
       "      <th>1</th>\n",
       "      <td>sensor_0</td>\n",
       "      <td>2748.28875</td>\n",
       "      <td>81.467436</td>\n",
       "      <td>2016-06-21</td>\n",
       "      <td>04:00:00</td>\n",
       "    </tr>\n",
       "    <tr>\n",
       "      <th>2</th>\n",
       "      <td>sensor_0</td>\n",
       "      <td>2720.35125</td>\n",
       "      <td>80.020600</td>\n",
       "      <td>2016-06-21</td>\n",
       "      <td>08:00:00</td>\n",
       "    </tr>\n",
       "    <tr>\n",
       "      <th>3</th>\n",
       "      <td>sensor_0</td>\n",
       "      <td>2443.72875</td>\n",
       "      <td>76.525876</td>\n",
       "      <td>2016-06-21</td>\n",
       "      <td>12:00:00</td>\n",
       "    </tr>\n",
       "    <tr>\n",
       "      <th>4</th>\n",
       "      <td>sensor_0</td>\n",
       "      <td>2717.49625</td>\n",
       "      <td>80.020600</td>\n",
       "      <td>2016-06-21</td>\n",
       "      <td>16:00:00</td>\n",
       "    </tr>\n",
       "  </tbody>\n",
       "</table>\n",
       "</div>"
      ],
      "text/plain": [
       "     sensor         con        spl        date      time\n",
       "0  sensor_0  2834.03125  66.308479  2016-06-21  00:00:00\n",
       "1  sensor_0  2748.28875  81.467436  2016-06-21  04:00:00\n",
       "2  sensor_0  2720.35125  80.020600  2016-06-21  08:00:00\n",
       "3  sensor_0  2443.72875  76.525876  2016-06-21  12:00:00\n",
       "4  sensor_0  2717.49625  80.020600  2016-06-21  16:00:00"
      ]
     },
     "execution_count": 5,
     "metadata": {},
     "output_type": "execute_result"
    }
   ],
   "source": [
    "sensor.head()"
   ]
  },
  {
   "cell_type": "code",
   "execution_count": 7,
   "metadata": {
    "collapsed": false
   },
   "outputs": [],
   "source": [
    "#sensor_con_date = sensor[['date', 'con']].groupby('date').sum()\n",
    "#sensor_spl_date = sensor[['date', 'spl']].groupby('date').sum()"
   ]
  },
  {
   "cell_type": "code",
   "execution_count": 8,
   "metadata": {
    "collapsed": false
   },
   "outputs": [],
   "source": [
    "#sensor_con_date"
   ]
  },
  {
   "cell_type": "code",
   "execution_count": 9,
   "metadata": {
    "collapsed": false
   },
   "outputs": [],
   "source": [
    "weather = pd.read_csv('weather.csv')"
   ]
  },
  {
   "cell_type": "code",
   "execution_count": 11,
   "metadata": {
    "collapsed": false
   },
   "outputs": [
    {
     "data": {
      "text/html": [
       "<div>\n",
       "<table border=\"1\" class=\"dataframe\">\n",
       "  <thead>\n",
       "    <tr style=\"text-align: right;\">\n",
       "      <th></th>\n",
       "      <th>Time</th>\n",
       "      <th>Temp.</th>\n",
       "      <th>Humidity</th>\n",
       "      <th>Pressure</th>\n",
       "      <th>Day</th>\n",
       "    </tr>\n",
       "  </thead>\n",
       "  <tbody>\n",
       "    <tr>\n",
       "      <th>0</th>\n",
       "      <td>0:00</td>\n",
       "      <td>72.500</td>\n",
       "      <td>70.00</td>\n",
       "      <td>29.8325</td>\n",
       "      <td>21-06-2016</td>\n",
       "    </tr>\n",
       "    <tr>\n",
       "      <th>1</th>\n",
       "      <td>4:00</td>\n",
       "      <td>76.225</td>\n",
       "      <td>62.50</td>\n",
       "      <td>29.7900</td>\n",
       "      <td>21-06-2016</td>\n",
       "    </tr>\n",
       "    <tr>\n",
       "      <th>2</th>\n",
       "      <td>8:00</td>\n",
       "      <td>82.475</td>\n",
       "      <td>34.25</td>\n",
       "      <td>29.8375</td>\n",
       "      <td>21-06-2016</td>\n",
       "    </tr>\n",
       "    <tr>\n",
       "      <th>3</th>\n",
       "      <td>12:00</td>\n",
       "      <td>85.725</td>\n",
       "      <td>35.50</td>\n",
       "      <td>29.8075</td>\n",
       "      <td>21-06-2016</td>\n",
       "    </tr>\n",
       "    <tr>\n",
       "      <th>4</th>\n",
       "      <td>16:00</td>\n",
       "      <td>80.525</td>\n",
       "      <td>56.25</td>\n",
       "      <td>29.7625</td>\n",
       "      <td>21-06-2016</td>\n",
       "    </tr>\n",
       "  </tbody>\n",
       "</table>\n",
       "</div>"
      ],
      "text/plain": [
       "    Time   Temp.  Humidity  Pressure         Day\n",
       "0   0:00  72.500     70.00   29.8325  21-06-2016\n",
       "1   4:00  76.225     62.50   29.7900  21-06-2016\n",
       "2   8:00  82.475     34.25   29.8375  21-06-2016\n",
       "3  12:00  85.725     35.50   29.8075  21-06-2016\n",
       "4  16:00  80.525     56.25   29.7625  21-06-2016"
      ]
     },
     "execution_count": 11,
     "metadata": {},
     "output_type": "execute_result"
    }
   ],
   "source": [
    "weather.head()"
   ]
  },
  {
   "cell_type": "code",
   "execution_count": 12,
   "metadata": {
    "collapsed": true
   },
   "outputs": [],
   "source": [
    "weather['date']= sensor.date"
   ]
  },
  {
   "cell_type": "code",
   "execution_count": 21,
   "metadata": {
    "collapsed": false
   },
   "outputs": [],
   "source": [
    "sensor_weather = pd.merge(sensor, weather, on ='date')"
   ]
  },
  {
   "cell_type": "code",
   "execution_count": 23,
   "metadata": {
    "collapsed": false
   },
   "outputs": [
    {
     "data": {
      "text/html": [
       "<div>\n",
       "<table border=\"1\" class=\"dataframe\">\n",
       "  <thead>\n",
       "    <tr style=\"text-align: right;\">\n",
       "      <th></th>\n",
       "      <th>sensor</th>\n",
       "      <th>con</th>\n",
       "      <th>spl</th>\n",
       "      <th>date</th>\n",
       "      <th>time</th>\n",
       "      <th>Time</th>\n",
       "      <th>Temp.</th>\n",
       "      <th>Humidity</th>\n",
       "      <th>Pressure</th>\n",
       "      <th>Day</th>\n",
       "    </tr>\n",
       "  </thead>\n",
       "  <tbody>\n",
       "    <tr>\n",
       "      <th>0</th>\n",
       "      <td>sensor_0</td>\n",
       "      <td>2834.03125</td>\n",
       "      <td>66.308479</td>\n",
       "      <td>2016-06-21</td>\n",
       "      <td>00:00:00</td>\n",
       "      <td>0:00</td>\n",
       "      <td>72.500</td>\n",
       "      <td>70.00</td>\n",
       "      <td>29.8325</td>\n",
       "      <td>21-06-2016</td>\n",
       "    </tr>\n",
       "    <tr>\n",
       "      <th>1</th>\n",
       "      <td>sensor_0</td>\n",
       "      <td>2834.03125</td>\n",
       "      <td>66.308479</td>\n",
       "      <td>2016-06-21</td>\n",
       "      <td>00:00:00</td>\n",
       "      <td>4:00</td>\n",
       "      <td>76.225</td>\n",
       "      <td>62.50</td>\n",
       "      <td>29.7900</td>\n",
       "      <td>21-06-2016</td>\n",
       "    </tr>\n",
       "    <tr>\n",
       "      <th>2</th>\n",
       "      <td>sensor_0</td>\n",
       "      <td>2834.03125</td>\n",
       "      <td>66.308479</td>\n",
       "      <td>2016-06-21</td>\n",
       "      <td>00:00:00</td>\n",
       "      <td>8:00</td>\n",
       "      <td>82.475</td>\n",
       "      <td>34.25</td>\n",
       "      <td>29.8375</td>\n",
       "      <td>21-06-2016</td>\n",
       "    </tr>\n",
       "    <tr>\n",
       "      <th>3</th>\n",
       "      <td>sensor_0</td>\n",
       "      <td>2834.03125</td>\n",
       "      <td>66.308479</td>\n",
       "      <td>2016-06-21</td>\n",
       "      <td>00:00:00</td>\n",
       "      <td>12:00</td>\n",
       "      <td>85.725</td>\n",
       "      <td>35.50</td>\n",
       "      <td>29.8075</td>\n",
       "      <td>21-06-2016</td>\n",
       "    </tr>\n",
       "    <tr>\n",
       "      <th>4</th>\n",
       "      <td>sensor_0</td>\n",
       "      <td>2834.03125</td>\n",
       "      <td>66.308479</td>\n",
       "      <td>2016-06-21</td>\n",
       "      <td>00:00:00</td>\n",
       "      <td>16:00</td>\n",
       "      <td>80.525</td>\n",
       "      <td>56.25</td>\n",
       "      <td>29.7625</td>\n",
       "      <td>21-06-2016</td>\n",
       "    </tr>\n",
       "  </tbody>\n",
       "</table>\n",
       "</div>"
      ],
      "text/plain": [
       "     sensor         con        spl        date      time   Time   Temp.  \\\n",
       "0  sensor_0  2834.03125  66.308479  2016-06-21  00:00:00   0:00  72.500   \n",
       "1  sensor_0  2834.03125  66.308479  2016-06-21  00:00:00   4:00  76.225   \n",
       "2  sensor_0  2834.03125  66.308479  2016-06-21  00:00:00   8:00  82.475   \n",
       "3  sensor_0  2834.03125  66.308479  2016-06-21  00:00:00  12:00  85.725   \n",
       "4  sensor_0  2834.03125  66.308479  2016-06-21  00:00:00  16:00  80.525   \n",
       "\n",
       "   Humidity  Pressure         Day  \n",
       "0     70.00   29.8325  21-06-2016  \n",
       "1     62.50   29.7900  21-06-2016  \n",
       "2     34.25   29.8375  21-06-2016  \n",
       "3     35.50   29.8075  21-06-2016  \n",
       "4     56.25   29.7625  21-06-2016  "
      ]
     },
     "execution_count": 23,
     "metadata": {},
     "output_type": "execute_result"
    }
   ],
   "source": [
    "sensor_weather.head()"
   ]
  },
  {
   "cell_type": "code",
   "execution_count": 25,
   "metadata": {
    "collapsed": false
   },
   "outputs": [
    {
     "data": {
      "image/png": "[encoded data removed]",
      "text/plain": [
       "<matplotlib.figure.Figure at 0xc35bda0>"
      ]
     },
     "metadata": {},
     "output_type": "display_data"
    }
   ],
   "source": [
    "plt.figure(figsize= (10,10))\n",
    "plt.scatter(sensor_weather['Humidity'],sensor_weather.con,c = 'IndianRed')\n",
    "plt.show()"
   ]
  },
  {
   "cell_type": "code",
   "execution_count": 27,
   "metadata": {
    "collapsed": true
   },
   "outputs": [],
   "source": [
    "sensor_weather['Humidity_log'] = np.log(sensor_weather['Humidity'])\n",
    "sensor_weather['con_log'] = np.log(sensor_weather.con)"
   ]
  },
  {
   "cell_type": "code",
   "execution_count": 28,
   "metadata": {
    "collapsed": false
   },
   "outputs": [
    {
     "data": {
      "image/png": "[encoded data removed]",
      "text/plain": [
       "<matplotlib.figure.Figure at 0xc5d3d68>"
      ]
     },
     "metadata": {},
     "output_type": "display_data"
    }
   ],
   "source": [
    "plt.figure(figsize= (10,10))\n",
    "plt.scatter(sensor_weather['Humidity_log'],sensor_weather['con_log'],c = 'IndianRed')\n",
    "plt.show()"
   ]
  },
  {
   "cell_type": "code",
   "execution_count": 31,
   "metadata": {
    "collapsed": false
   },
   "outputs": [],
   "source": [
    "lm = smf.ols(formula = 'con_log ~ Humidity_log', data = sensor_weather).fit()"
   ]
  },
  {
   "cell_type": "code",
   "execution_count": 37,
   "metadata": {
    "collapsed": false
   },
   "outputs": [
    {
     "name": "stdout",
     "output_type": "stream",
     "text": [
      "Intercept       7.809044\n",
      "Humidity_log    0.025903\n",
      "dtype: float64\n"
     ]
    }
   ],
   "source": [
    "print lm.params"
   ]
  },
  {
   "cell_type": "code",
   "execution_count": 43,
   "metadata": {
    "collapsed": false
   },
   "outputs": [
    {
     "data": {
      "text/html": [
       "<div>\n",
       "<table border=\"1\" class=\"dataframe\">\n",
       "  <thead>\n",
       "    <tr style=\"text-align: right;\">\n",
       "      <th></th>\n",
       "      <th>sensor</th>\n",
       "      <th>con</th>\n",
       "      <th>spl</th>\n",
       "      <th>date</th>\n",
       "      <th>time</th>\n",
       "      <th>Time</th>\n",
       "      <th>Temp.</th>\n",
       "      <th>Humidity</th>\n",
       "      <th>Pressure</th>\n",
       "      <th>Day</th>\n",
       "      <th>Humidity_log</th>\n",
       "      <th>con_log</th>\n",
       "    </tr>\n",
       "  </thead>\n",
       "  <tbody>\n",
       "    <tr>\n",
       "      <th>0</th>\n",
       "      <td>sensor_0</td>\n",
       "      <td>2834.03125</td>\n",
       "      <td>66.308479</td>\n",
       "      <td>2016-06-21</td>\n",
       "      <td>00:00:00</td>\n",
       "      <td>0:00</td>\n",
       "      <td>72.500</td>\n",
       "      <td>70.00</td>\n",
       "      <td>29.8325</td>\n",
       "      <td>21-06-2016</td>\n",
       "      <td>4.248495</td>\n",
       "      <td>7.949455</td>\n",
       "    </tr>\n",
       "    <tr>\n",
       "      <th>1</th>\n",
       "      <td>sensor_0</td>\n",
       "      <td>2834.03125</td>\n",
       "      <td>66.308479</td>\n",
       "      <td>2016-06-21</td>\n",
       "      <td>00:00:00</td>\n",
       "      <td>4:00</td>\n",
       "      <td>76.225</td>\n",
       "      <td>62.50</td>\n",
       "      <td>29.7900</td>\n",
       "      <td>21-06-2016</td>\n",
       "      <td>4.135167</td>\n",
       "      <td>7.949455</td>\n",
       "    </tr>\n",
       "    <tr>\n",
       "      <th>2</th>\n",
       "      <td>sensor_0</td>\n",
       "      <td>2834.03125</td>\n",
       "      <td>66.308479</td>\n",
       "      <td>2016-06-21</td>\n",
       "      <td>00:00:00</td>\n",
       "      <td>8:00</td>\n",
       "      <td>82.475</td>\n",
       "      <td>34.25</td>\n",
       "      <td>29.8375</td>\n",
       "      <td>21-06-2016</td>\n",
       "      <td>3.533687</td>\n",
       "      <td>7.949455</td>\n",
       "    </tr>\n",
       "    <tr>\n",
       "      <th>3</th>\n",
       "      <td>sensor_0</td>\n",
       "      <td>2834.03125</td>\n",
       "      <td>66.308479</td>\n",
       "      <td>2016-06-21</td>\n",
       "      <td>00:00:00</td>\n",
       "      <td>12:00</td>\n",
       "      <td>85.725</td>\n",
       "      <td>35.50</td>\n",
       "      <td>29.8075</td>\n",
       "      <td>21-06-2016</td>\n",
       "      <td>3.569533</td>\n",
       "      <td>7.949455</td>\n",
       "    </tr>\n",
       "    <tr>\n",
       "      <th>4</th>\n",
       "      <td>sensor_0</td>\n",
       "      <td>2834.03125</td>\n",
       "      <td>66.308479</td>\n",
       "      <td>2016-06-21</td>\n",
       "      <td>00:00:00</td>\n",
       "      <td>16:00</td>\n",
       "      <td>80.525</td>\n",
       "      <td>56.25</td>\n",
       "      <td>29.7625</td>\n",
       "      <td>21-06-2016</td>\n",
       "      <td>4.029806</td>\n",
       "      <td>7.949455</td>\n",
       "    </tr>\n",
       "  </tbody>\n",
       "</table>\n",
       "</div>"
      ],
      "text/plain": [
       "     sensor         con        spl        date      time   Time   Temp.  \\\n",
       "0  sensor_0  2834.03125  66.308479  2016-06-21  00:00:00   0:00  72.500   \n",
       "1  sensor_0  2834.03125  66.308479  2016-06-21  00:00:00   4:00  76.225   \n",
       "2  sensor_0  2834.03125  66.308479  2016-06-21  00:00:00   8:00  82.475   \n",
       "3  sensor_0  2834.03125  66.308479  2016-06-21  00:00:00  12:00  85.725   \n",
       "4  sensor_0  2834.03125  66.308479  2016-06-21  00:00:00  16:00  80.525   \n",
       "\n",
       "   Humidity  Pressure         Day  Humidity_log   con_log  \n",
       "0     70.00   29.8325  21-06-2016      4.248495  7.949455  \n",
       "1     62.50   29.7900  21-06-2016      4.135167  7.949455  \n",
       "2     34.25   29.8375  21-06-2016      3.533687  7.949455  \n",
       "3     35.50   29.8075  21-06-2016      3.569533  7.949455  \n",
       "4     56.25   29.7625  21-06-2016      4.029806  7.949455  "
      ]
     },
     "execution_count": 43,
     "metadata": {},
     "output_type": "execute_result"
    }
   ],
   "source": [
    "sensor_weather.head()"
   ]
  },
  {
   "cell_type": "code",
   "execution_count": 45,
   "metadata": {
    "collapsed": false
   },
   "outputs": [
    {
     "ename": "SyntaxError",
     "evalue": "invalid syntax (<ipython-input-45-1f6a538968ba>, line 2)",
     "output_type": "error",
     "traceback": [
      "\u001b[0;36m  File \u001b[0;32m\"<ipython-input-45-1f6a538968ba>\"\u001b[0;36m, line \u001b[0;32m2\u001b[0m\n\u001b[0;31m    plt.scatter(sensor_weather['Temp.'],sensor_weather['con'],c = 'IndianRed')\u001b[0m\n\u001b[0m      ^\u001b[0m\n\u001b[0;31mSyntaxError\u001b[0m\u001b[0;31m:\u001b[0m invalid syntax\n"
     ]
    }
   ],
   "source": [
    "plt.figure(figsize= (10,10)\n",
    "plt.scatter(sensor_weather['Temp.'],sensor_weather['con'],c = 'IndianRed')\n",
    "plt.show()"
   ]
  },
  {
   "cell_type": "code",
   "execution_count": null,
   "metadata": {
    "collapsed": true
   },
   "outputs": [],
   "source": []
  }
 ],
 "metadata": {
  "anaconda-cloud": {},
  "kernelspec": {
   "display_name": "Python [conda root]",
   "language": "python",
   "name": "conda-root-py"
  },
  "language_info": {
   "codemirror_mode": {
    "name": "ipython",
    "version": 2
   },
   "file_extension": ".py",
   "mimetype": "text/x-python",
   "name": "python",
   "nbconvert_exporter": "python",
   "pygments_lexer": "ipython2",
   "version": "2.7.12"
  }
 },
 "nbformat": 4,
 "nbformat_minor": 1
}
